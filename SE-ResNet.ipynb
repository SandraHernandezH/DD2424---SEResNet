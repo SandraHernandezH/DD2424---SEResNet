{
 "cells": [
  {
   "cell_type": "code",
<<<<<<< HEAD
   "execution_count": 1,
   "metadata": {},
   "outputs": [],
   "source": [
    "# Load the TensorBoard notebook extension\n",
    "#%load_ext tensorboard\n",
    "#%reload_ext tensorboard\n",
    "!kill $(ps aux | grep './ngrok' | awk '{print $2}')"
=======
   "execution_count": 4,
   "metadata": {},
   "outputs": [
    {
     "name": "stdout",
     "output_type": "stream",
     "text": [
      "The tensorboard extension is already loaded. To reload it, use:\n",
      "  %reload_ext tensorboard\n"
     ]
    }
   ],
   "source": [
    "# Load the TensorBoard notebook extension\n",
    "%load_ext tensorboard\n",
    "#%reload_ext tensorboard"
>>>>>>> 5f2cbdce25abed1b16d34391fa5fa496a2356ce0
   ]
  },
  {
   "cell_type": "code",
   "execution_count": 2,
   "metadata": {},
   "outputs": [],
   "source": [
<<<<<<< HEAD
    "import os\n",
    "import tensorflow as tf\n",
    "from ResNet50 import *\n",
    "from LoadDataset import *\n",
    "from tensorboard import notebook\n",
    "#os.environ['TF_CPP_MIN_LOG_LEVEL'] = '3' \n",
    "#os.environ['CUDA_VISIBLE_DEVICES'] = '-1'\n",
    "\n",
    "#config = tf.compat.v1.ConfigProto()\n",
    "#config.gpu_options.allow_growth = True"
=======
    "import tensorflow as tf\n",
    "from ResNet50 import *\n",
    "from LoadDataset import *\n",
    "from tensorboard import notebook"
>>>>>>> 5f2cbdce25abed1b16d34391fa5fa496a2356ce0
   ]
  },
  {
   "cell_type": "code",
   "execution_count": 3,
   "metadata": {},
   "outputs": [
    {
     "name": "stdout",
     "output_type": "stream",
     "text": [
      "2\n",
      "Default GPU Device:/device:GPU:0\n"
     ]
    }
   ],
   "source": [
    "a = tf.Variable(2)\n",
    "tf.print(a)\n",
    "if tf.test.gpu_device_name(): \n",
    "    print('Default GPU Device:{}'.format(tf.test.gpu_device_name()))\n",
    "\n",
    "else:\n",
    "   print(\"Please install GPU version of TF\")"
   ]
  },
  {
   "cell_type": "code",
<<<<<<< HEAD
   "execution_count": 11,
=======
   "execution_count": 19,
>>>>>>> 5f2cbdce25abed1b16d34391fa5fa496a2356ce0
   "metadata": {},
   "outputs": [
    {
     "name": "stdout",
     "output_type": "stream",
     "text": [
<<<<<<< HEAD
      "loading data 2...\n",
      "Loading ./Datasets/cifar-10-batches-py/data_batch_1 : 10000.\n",
      "Loading ./Datasets/cifar-10-batches-py/data_batch_2 : 10000.\n",
      "Loading ./Datasets/cifar-10-batches-py/data_batch_3 : 10000.\n",
      "Loading ./Datasets/cifar-10-batches-py/data_batch_4 : 10000.\n",
      "Loading ./Datasets/cifar-10-batches-py/data_batch_5 : 10000.\n",
      "Loading ./Datasets/cifar-10-batches-py/test_batch : 10000.\n",
      "Train data: (50000, 32, 32, 3) (50000,)\n",
      "Test data : (10000, 32, 32, 3) (10000,)\n",
      "normalizing data...\n"
=======
      "loading data 2...\n"
     ]
    },
    {
     "ename": "TypeError",
     "evalue": "can only concatenate str (not \"list\") to str",
     "output_type": "error",
     "traceback": [
      "\u001b[0;31m---------------------------------------------------------------------------\u001b[0m",
      "\u001b[0;31mTypeError\u001b[0m                                 Traceback (most recent call last)",
      "\u001b[0;32m<ipython-input-19-85775ff707db>\u001b[0m in \u001b[0;36m<module>\u001b[0;34m\u001b[0m\n\u001b[1;32m     73\u001b[0m \u001b[0;34m\u001b[0m\u001b[0m\n\u001b[1;32m     74\u001b[0m     \u001b[0mprint\u001b[0m\u001b[0;34m(\u001b[0m\u001b[0;34m\"loading data 2...\"\u001b[0m\u001b[0;34m)\u001b[0m\u001b[0;34m\u001b[0m\u001b[0;34m\u001b[0m\u001b[0m\n\u001b[0;32m---> 75\u001b[0;31m     \u001b[0mtrain_X\u001b[0m\u001b[0;34m,\u001b[0m \u001b[0mtrain_lab\u001b[0m\u001b[0;34m,\u001b[0m \u001b[0mtest_X\u001b[0m\u001b[0;34m,\u001b[0m \u001b[0mtest_lab\u001b[0m \u001b[0;34m=\u001b[0m \u001b[0mget_data\u001b[0m\u001b[0;34m(\u001b[0m\u001b[0mdataset\u001b[0m\u001b[0;34m)\u001b[0m\u001b[0;34m\u001b[0m\u001b[0;34m\u001b[0m\u001b[0m\n\u001b[0m\u001b[1;32m     76\u001b[0m     \u001b[0mprint\u001b[0m\u001b[0;34m(\u001b[0m\u001b[0;34m\"normalizing data...\"\u001b[0m\u001b[0;34m)\u001b[0m\u001b[0;34m\u001b[0m\u001b[0;34m\u001b[0m\u001b[0m\n\u001b[1;32m     77\u001b[0m     \u001b[0mtrain_X\u001b[0m\u001b[0;34m,\u001b[0m \u001b[0mtest_X\u001b[0m \u001b[0;34m=\u001b[0m \u001b[0mnormalize\u001b[0m\u001b[0;34m(\u001b[0m\u001b[0mtrain_X\u001b[0m\u001b[0;34m,\u001b[0m \u001b[0mtest_X\u001b[0m\u001b[0;34m)\u001b[0m\u001b[0;34m\u001b[0m\u001b[0;34m\u001b[0m\u001b[0m\n",
      "\u001b[0;32m~/DD2424---SEResNet/LoadDataset.py\u001b[0m in \u001b[0;36mget_data\u001b[0;34m(dataset)\u001b[0m\n\u001b[1;32m     61\u001b[0m     \u001b[0mimg_dim\u001b[0m \u001b[0;34m=\u001b[0m \u001b[0mimg_size\u001b[0m \u001b[0;34m*\u001b[0m \u001b[0mimg_size\u001b[0m \u001b[0;34m*\u001b[0m \u001b[0mimg_channels\u001b[0m\u001b[0;34m\u001b[0m\u001b[0;34m\u001b[0m\u001b[0m\n\u001b[1;32m     62\u001b[0m     \u001b[0;32mif\u001b[0m \u001b[0mdataset\u001b[0m \u001b[0;34m==\u001b[0m \u001b[0;36m100\u001b[0m\u001b[0;34m:\u001b[0m\u001b[0;34m\u001b[0m\u001b[0;34m\u001b[0m\u001b[0m\n\u001b[0;32m---> 63\u001b[0;31m         \u001b[0mn_labels\u001b[0m \u001b[0;34m=\u001b[0m \u001b[0;36m100\u001b[0m\u001b[0;34m\u001b[0m\u001b[0;34m\u001b[0m\u001b[0m\n\u001b[0m\u001b[1;32m     64\u001b[0m         \u001b[0mdata_dir\u001b[0m \u001b[0;34m=\u001b[0m \u001b[0;34m'./Datasets/cifar-100-python'\u001b[0m\u001b[0;34m\u001b[0m\u001b[0;34m\u001b[0m\u001b[0m\n\u001b[1;32m     65\u001b[0m \u001b[0;34m\u001b[0m\u001b[0m\n",
      "\u001b[0;32m~/DD2424---SEResNet/LoadDataset.py\u001b[0m in \u001b[0;36mload_data100\u001b[0;34m(files, data_dir, label_count)\u001b[0m\n\u001b[1;32m     48\u001b[0m     \u001b[0;32mglobal\u001b[0m \u001b[0mimg_size\u001b[0m\u001b[0;34m,\u001b[0m \u001b[0mimg_channels\u001b[0m\u001b[0;34m\u001b[0m\u001b[0;34m\u001b[0m\u001b[0m\n\u001b[1;32m     49\u001b[0m     \u001b[0mdata\u001b[0m\u001b[0;34m,\u001b[0m \u001b[0mlabels\u001b[0m \u001b[0;34m=\u001b[0m \u001b[0munpickle100\u001b[0m\u001b[0;34m(\u001b[0m\u001b[0mdata_dir\u001b[0m \u001b[0;34m+\u001b[0m \u001b[0;34m'/'\u001b[0m \u001b[0;34m+\u001b[0m \u001b[0mfiles\u001b[0m\u001b[0;34m[\u001b[0m\u001b[0;36m0\u001b[0m\u001b[0;34m]\u001b[0m\u001b[0;34m)\u001b[0m\u001b[0;34m\u001b[0m\u001b[0;34m\u001b[0m\u001b[0m\n\u001b[0;32m---> 50\u001b[0;31m     \u001b[0;32mfor\u001b[0m \u001b[0mf\u001b[0m \u001b[0;32min\u001b[0m \u001b[0mfiles\u001b[0m\u001b[0;34m[\u001b[0m\u001b[0;36m1\u001b[0m\u001b[0;34m:\u001b[0m\u001b[0;34m]\u001b[0m\u001b[0;34m:\u001b[0m\u001b[0;34m\u001b[0m\u001b[0;34m\u001b[0m\u001b[0m\n\u001b[0m\u001b[1;32m     51\u001b[0m         \u001b[0mdata_n\u001b[0m\u001b[0;34m,\u001b[0m \u001b[0mlabels_n\u001b[0m \u001b[0;34m=\u001b[0m  \u001b[0munpickle100\u001b[0m\u001b[0;34m(\u001b[0m\u001b[0mdata_dir\u001b[0m \u001b[0;34m+\u001b[0m \u001b[0;34m'/'\u001b[0m \u001b[0;34m+\u001b[0m \u001b[0mf\u001b[0m\u001b[0;34m)\u001b[0m\u001b[0;34m\u001b[0m\u001b[0;34m\u001b[0m\u001b[0m\n\u001b[1;32m     52\u001b[0m         \u001b[0mdata\u001b[0m \u001b[0;34m=\u001b[0m \u001b[0mnp\u001b[0m\u001b[0;34m.\u001b[0m\u001b[0mappend\u001b[0m\u001b[0;34m(\u001b[0m\u001b[0mdata\u001b[0m\u001b[0;34m,\u001b[0m \u001b[0mdata_n\u001b[0m\u001b[0;34m,\u001b[0m \u001b[0maxis\u001b[0m\u001b[0;34m=\u001b[0m\u001b[0;36m0\u001b[0m\u001b[0;34m)\u001b[0m\u001b[0;34m\u001b[0m\u001b[0;34m\u001b[0m\u001b[0m\n",
      "\u001b[0;31mTypeError\u001b[0m: can only concatenate str (not \"list\") to str"
>>>>>>> 5f2cbdce25abed1b16d34391fa5fa496a2356ce0
     ]
    }
   ],
   "source": [
    "import os\n",
    "os.environ['TF_CPP_MIN_LOG_LEVEL'] = '3' \n",
    "import numpy as np\n",
    "import matplotlib.pyplot as plt\n",
    "import datetime\n",
    "\n",
    "from tensorflow.keras.layers import Dense, Flatten, Conv2D, Reshape\n",
    "from tensorflow.keras import Model\n",
    "from sklearn.preprocessing import LabelEncoder\n",
    "from sklearn.preprocessing import OneHotEncoder\n",
    "import tensorflow.keras.backend as K\n",
    "from Squeeze_and_Excite import Squeeze_and_Excite \n",
    "from ResNet50 import *\n",
    "from LoadDataset import *\n",
    "\n",
    "#%load_ext tensorboard\n",
    "#!rm -rf ./logs/\n",
    "\n",
    "epoch = 100\n",
<<<<<<< HEAD
    "batch_size = 32\n",
    "learning_rate = 0.01\n",
    "dataset = 10\n",
=======
    "batch_size = 128\n",
    "learning_rate = 0.01\n",
    "dataset = 100\n",
>>>>>>> 5f2cbdce25abed1b16d34391fa5fa496a2356ce0
    "\n",
    "\n",
    "def oneHotEncoder(data):\n",
    "    label_encoder = LabelEncoder()\n",
    "    values = np.array(data)\n",
    "    onehot_encoder = OneHotEncoder(sparse = False)\n",
    "    integer_encoded = label_encoder.fit_transform(values)\n",
    "    integer_encoded = integer_encoded.reshape(len(integer_encoded), 1)\n",
    "    onehot_encoded = onehot_encoder.fit_transform(integer_encoded)\n",
    "    return onehot_encoded\n",
    "\n",
    "loss_object = tf.keras.losses.SparseCategoricalCrossentropy()\n",
<<<<<<< HEAD
    "optimizer_sgd = tf.keras.optimizers.SGD(learning_rate=learning_rate)\n",
    "optimizer_adam = tf.keras.optimizers.Adam(learning_rate=0.01)\n",
    "optimizer = optimizer_adam\n",
    "\n",
=======
    "optimizer = tf.keras.optimizers.SGD(learning_rate=learning_rate)\n",
>>>>>>> 5f2cbdce25abed1b16d34391fa5fa496a2356ce0
    "\n",
    "train_loss = tf.keras.metrics.Mean(name='train_loss')\n",
    "train_accuracy = tf.keras.metrics.SparseCategoricalAccuracy(name='train_accuracy')\n",
    "\n",
    "test_loss = tf.keras.metrics.Mean(name='test_loss')\n",
    "test_accuracy = tf.keras.metrics.SparseCategoricalAccuracy(name='test_accuracy')\n",
    "test_top1 = tf.keras.metrics.SparseTopKCategoricalAccuracy(k=1, name='test_1_accuracy') \n",
    "test_top5 = tf.keras.metrics.SparseTopKCategoricalAccuracy(k=5, name='test_5_accuracy') \n",
    "\n",
    "@tf.function\n",
    "def train_step(images, labels):\n",
    "    with tf.GradientTape() as tape:\n",
    "    # training=True is only needed if there are layers with different\n",
    "    # behavior during training versus inference (e.g. Dropout).\n",
    "        predictions = model(images, training = True)\n",
    "        loss =loss_object(labels, predictions)\n",
    "    gradients = tape.gradient(loss, model.trainable_variables)\n",
    "    optimizer.apply_gradients(zip(gradients, model.trainable_variables))\n",
    "    train_loss(loss)\n",
    "    train_accuracy(labels, predictions)\n",
    "        \n",
    "@tf.function\n",
    "def test_step(images, labels):\n",
    "    # training=True is only needed if there are layers with different\n",
    "    # behavior during training versus inference (e.g. Dropout).\n",
    "    predictions = model(images, training = False)\n",
    "    t_loss =loss_object(labels, predictions)\n",
    "\n",
    "    test_loss(t_loss)\n",
    "    test_accuracy(labels, predictions)\n",
    "    test_top1(labels, predictions)\n",
    "    test_top5(labels, predictions)\n",
    "\n",
    "\n",
    "if __name__ == \"__main__\":\n",
    "\n",
<<<<<<< HEAD
    "    save_model_dir = \"./checkpoints_norm\"\n",
=======
    "    save_model_dir = \"./checkpoints_pre\"\n",
>>>>>>> 5f2cbdce25abed1b16d34391fa5fa496a2356ce0
    "\n",
    "    print(\"loading data 2...\")\n",
    "    train_X, train_lab, test_X, test_lab = get_data(dataset)\n",
    "    print(\"normalizing data...\")\n",
    "    train_X, test_X = normalize(train_X, test_X)\n",
    "    train_data = tf.data.Dataset.from_tensor_slices((train_X, train_lab)).batch(batch_size)\n",
    "    test_data = tf.data.Dataset.from_tensor_slices((test_X, test_lab)).batch(batch_size)\n",
<<<<<<< HEAD
    "    \n",
    "\n",
    "    #model = ResNet50(include_top=True, weights=None, squeeze=False, squeeze_type='Normal')#, input_tensor = tf.data.Dataset.from_tensor_slices((train_X)))\n",
    "    #input_tensor = tf.placeholder(tf.float32, shape = [None, train_X.shape[0], train_X.shape[1], train_X.shape[2]])\n",
    "    model = ResNet50(include_top = True, squeeze = True, squeeze_type = 'normal', classes = dataset) #pre, identity, normal\n",
=======
    "\n",
    "    #model = ResNet50(include_top=True, weights=None, squeeze=False, squeeze_type='Normal')#, input_tensor = tf.data.Dataset.from_tensor_slices((train_X)))\n",
    "    #input_tensor = tf.placeholder(tf.float32, shape = [None, train_X.shape[0], train_X.shape[1], train_X.shape[2]])\n",
    "    model = ResNet50(include_top=True, squeeze=False, squeeze_type='normal', classes=dataset) #pre, identity, normal\n",
>>>>>>> 5f2cbdce25abed1b16d34391fa5fa496a2356ce0
    "\n",
    "    \"\"\"\n",
    "    features, label = iter(train_dataset).next()\n",
    "    print(\"example features:\", features[0])\n",
    "    print(\"example label:\", label[0])\n",
    "    \"\"\"\n",
    "\n",
    "    checkpoint_dir = os.path.join(save_model_dir, \"ckpt\")\n",
    "    checkpoint = tf.train.Checkpoint(optimizer=optimizer, model=model)\n",
    "    manager = tf.train.CheckpointManager(checkpoint, checkpoint_dir, max_to_keep=3)\n",
<<<<<<< HEAD
    "    #checkpoint.restore(manager.latest_checkpoint)\n",
=======
    "    checkpoint.restore(manager.latest_checkpoint)\n",
>>>>>>> 5f2cbdce25abed1b16d34391fa5fa496a2356ce0
    "    #if manager.latest_checkpoint:\n",
    "    #    print(\"Restaurado de {}\".format(manager.latest_checkpoint))\n",
    "    #else:\n",
    "    #    print(\"Inicializando desde cero\")\n",
    "\n",
    "    current_time = datetime.datetime.now().strftime(\"%Y%m%d-%H%M%S\")\n",
    "    train_log_dir = 'logs/gradient_tape/' + current_time + '/train'\n",
    "    test_log_dir = 'logs/gradient_tape/' + current_time + '/test'\n",
    "    train_summary_writer = tf.summary.create_file_writer(train_log_dir)\n",
    "    test_summary_writer = tf.summary.create_file_writer(test_log_dir)"
   ]
  },
  {
   "cell_type": "code",
<<<<<<< HEAD
   "execution_count": 6,
   "metadata": {},
   "outputs": [
    {
     "name": "stdout",
     "output_type": "stream",
     "text": [
      "--2020-05-12 20:24:22--  https://bin.equinox.io/c/4VmDzA7iaHb/ngrok-stable-linux-amd64.zip\n",
      "Resolving bin.equinox.io (bin.equinox.io)... 54.88.63.64, 3.215.12.181, 52.70.230.150, ...\n",
      "Connecting to bin.equinox.io (bin.equinox.io)|54.88.63.64|:443... connected.\n",
      "HTTP request sent, awaiting response... 200 OK\n",
      "Length: 13773305 (13M) [application/octet-stream]\n",
      "Saving to: ‘ngrok-stable-linux-amd64.zip.7’\n",
      "\n",
      "ngrok-stable-linux- 100%[===================>]  13.13M  15.2MB/s    in 0.9s    \n",
      "\n",
      "2020-05-12 20:24:23 (15.2 MB/s) - ‘ngrok-stable-linux-amd64.zip.7’ saved [13773305/13773305]\n",
      "\n",
      "Archive:  ngrok-stable-linux-amd64.zip\n",
      "  inflating: ngrok                   \n"
=======
   "execution_count": 17,
   "metadata": {},
   "outputs": [
    {
     "data": {
      "text/html": [
       "\n",
       "      <iframe id=\"tensorboard-frame-1897659de43e3323\" width=\"100%\" height=\"800\" frameborder=\"0\">\n",
       "      </iframe>\n",
       "      <script>\n",
       "        (function() {\n",
       "          const frame = document.getElementById(\"tensorboard-frame-1897659de43e3323\");\n",
       "          const url = new URL(\"/\", window.location);\n",
       "          url.port = 6006;\n",
       "          frame.src = url;\n",
       "        })();\n",
       "      </script>\n",
       "  "
      ],
      "text/plain": [
       "<IPython.core.display.HTML object>"
      ]
     },
     "metadata": {},
     "output_type": "display_data"
    },
    {
     "name": "stdout",
     "output_type": "stream",
     "text": [
      "Known TensorBoard instances:\n",
      "  - port 6006: logdir train_log_dir (started 0:00:00 ago; pid 7867)\n"
>>>>>>> 5f2cbdce25abed1b16d34391fa5fa496a2356ce0
     ]
    }
   ],
   "source": [
<<<<<<< HEAD
    "!wget https://bin.equinox.io/c/4VmDzA7iaHb/ngrok-stable-linux-amd64.zip\n",
    "!unzip -o ngrok-stable-linux-amd64.zip"
=======
    "%tensorboard --logdir train_log_dir\n",
    "notebook.list() # View open TensorBoard instances"
>>>>>>> 5f2cbdce25abed1b16d34391fa5fa496a2356ce0
   ]
  },
  {
   "cell_type": "code",
<<<<<<< HEAD
   "execution_count": 13,
   "metadata": {},
   "outputs": [
    {
     "name": "stdout",
     "output_type": "stream",
     "text": [
      "https://e68393b6.ngrok.io\n"
     ]
    }
   ],
   "source": [
    "logdir = \"logs\"\n",
    "LOG_DIR = logdir\n",
    "get_ipython().system_raw(\n",
    "    'tensorboard --logdir {} --host 0.0.0.0 --port 6006 &'\n",
    "    .format(LOG_DIR)\n",
    ")\n",
    "get_ipython().system_raw('./ngrok http 6006 &')\n",
    "! curl -s http://localhost:4040/api/tunnels | python3 -c \\\n",
    "    \"import sys, json; print(json.load(sys.stdin)['tunnels'][0]['public_url'])\""
=======
   "execution_count": null,
   "metadata": {},
   "outputs": [],
   "source": [
    "# Control TensorBoard display. If no port is provided, \n",
    "# the most recently launched TensorBoard is used\n",
    "notebook.display(port=6006, height=1000) "
>>>>>>> 5f2cbdce25abed1b16d34391fa5fa496a2356ce0
   ]
  },
  {
   "cell_type": "code",
   "execution_count": null,
   "metadata": {},
<<<<<<< HEAD
   "outputs": [
    {
     "name": "stdout",
     "output_type": "stream",
     "text": [
      "0\n",
      "Epoch 1, Train Loss: 2.315361738204956, Train Accuracy: 27.895999908447266, Test Loss: 1.7127608060836792, Test Accuracy: 40.84000015258789\n",
      "Top1 Error: 59.15999984741211, Top5 Error: 10.339999198913574\n",
      "1\n",
      "Epoch 2, Train Loss: 1.6200073957443237, Train Accuracy: 41.04800033569336, Test Loss: 15.273942947387695, Test Accuracy: 16.85999870300293\n",
      "Top1 Error: 71.1500015258789, Top5 Error: 22.30500030517578\n",
      "2\n",
      "Epoch 3, Train Loss: 1.5682395696640015, Train Accuracy: 42.29800033569336, Test Loss: 2.6243410110473633, Test Accuracy: 29.8700008392334\n",
      "Top1 Error: 70.80999755859375, Top5 Error: 20.13666534423828\n",
      "3\n",
      "Epoch 4, Train Loss: 1.3743306398391724, Train Accuracy: 50.22800064086914, Test Loss: 1.515599012374878, Test Accuracy: 47.31999969482422\n",
      "Top1 Error: 66.27750396728516, Top5 Error: 16.792499542236328\n",
      "4\n",
      "Epoch 5, Train Loss: 1.1692012548446655, Train Accuracy: 58.439998626708984, Test Loss: 1.2147146463394165, Test Accuracy: 58.53999710083008\n",
      "Top1 Error: 61.31399917602539, Top5 Error: 14.503997802734375\n",
      "5\n",
      "Epoch 6, Train Loss: 1.0438233613967896, Train Accuracy: 63.37799835205078, Test Loss: 1.0613293647766113, Test Accuracy: 64.67000579833984\n",
      "Top1 Error: 56.983333587646484, Top5 Error: 12.711668014526367\n",
      "6\n",
      "Epoch 7, Train Loss: 0.9057702422142029, Train Accuracy: 68.30599975585938, Test Loss: 1.0745353698730469, Test Accuracy: 64.22000122070312\n",
      "Top1 Error: 53.95428466796875, Top5 Error: 11.427140235900879\n",
      "7\n",
      "Epoch 8, Train Loss: 0.7969777584075928, Train Accuracy: 72.25999450683594, Test Loss: 0.9606865048408508, Test Accuracy: 67.11000061035156\n",
      "Top1 Error: 51.321250915527344, Top5 Error: 10.382497787475586\n",
      "8\n",
      "Epoch 9, Train Loss: 0.7067554593086243, Train Accuracy: 75.35399627685547, Test Loss: 1.0059088468551636, Test Accuracy: 66.93000030517578\n",
      "Top1 Error: 49.2933349609375, Top5 Error: 9.582221984863281\n",
      "9\n",
      "Epoch 10, Train Loss: 0.6116966605186462, Train Accuracy: 78.7699966430664, Test Loss: 1.0178310871124268, Test Accuracy: 68.93000030517578\n",
      "Top1 Error: 47.47100067138672, Top5 Error: 8.944999694824219\n",
      "10\n",
      "Epoch 11, Train Loss: 0.5398918390274048, Train Accuracy: 81.40799713134766, Test Loss: 0.9335964918136597, Test Accuracy: 70.70999908447266\n",
      "Top1 Error: 45.818180084228516, Top5 Error: 8.388179779052734\n",
      "11\n",
      "Epoch 12, Train Loss: 0.46900221705436707, Train Accuracy: 83.7300033569336, Test Loss: 1.0033189058303833, Test Accuracy: 70.8800048828125\n",
      "Top1 Error: 44.426666259765625, Top5 Error: 7.944166660308838\n",
      "12\n",
      "Epoch 13, Train Loss: 0.39665687084198, Train Accuracy: 86.09200286865234, Test Loss: 1.1137852668762207, Test Accuracy: 70.1300048828125\n",
      "Top1 Error: 43.306922912597656, Top5 Error: 7.58846378326416\n",
      "13\n",
      "Epoch 14, Train Loss: 0.35492104291915894, Train Accuracy: 87.5479965209961, Test Loss: 1.0486795902252197, Test Accuracy: 71.1500015258789\n",
      "Top1 Error: 42.27428436279297, Top5 Error: 7.251429557800293\n",
      "14\n",
      "Epoch 15, Train Loss: 0.29562172293663025, Train Accuracy: 89.74600219726562, Test Loss: 1.2350584268569946, Test Accuracy: 70.34000396728516\n",
      "Top1 Error: 41.43333435058594, Top5 Error: 6.972664833068848\n",
      "15\n",
      "Epoch 16, Train Loss: 0.2612326443195343, Train Accuracy: 90.87200164794922, Test Loss: 1.2184604406356812, Test Accuracy: 70.85000610351562\n",
      "Top1 Error: 40.665626525878906, Top5 Error: 6.720000267028809\n",
      "16\n",
      "Epoch 17, Train Loss: 0.2722608745098114, Train Accuracy: 90.62200164794922, Test Loss: 1.1268906593322754, Test Accuracy: 72.93999481201172\n",
      "Top1 Error: 39.86529541015625, Top5 Error: 6.47352933883667\n",
      "17\n",
      "Epoch 18, Train Loss: 0.20498542487621307, Train Accuracy: 92.85200500488281, Test Loss: 1.3371385335922241, Test Accuracy: 70.13999938964844\n",
      "Top1 Error: 39.30944061279297, Top5 Error: 6.283891201019287\n",
      "18\n",
      "Epoch 19, Train Loss: 0.2317221313714981, Train Accuracy: 91.99400329589844, Test Loss: 1.2725791931152344, Test Accuracy: 72.0999984741211\n",
      "Top1 Error: 38.70895004272461, Top5 Error: 6.087893486022949\n",
      "19\n",
      "Epoch 20, Train Loss: 0.1746075451374054, Train Accuracy: 93.95600128173828, Test Loss: 1.3216243982315063, Test Accuracy: 71.3800048828125\n",
      "Top1 Error: 38.204498291015625, Top5 Error: 5.94099760055542\n",
      "20\n",
      "Epoch 21, Train Loss: 0.14956879615783691, Train Accuracy: 94.80599975585938, Test Loss: 1.3920178413391113, Test Accuracy: 71.94000244140625\n",
      "Top1 Error: 37.721431732177734, Top5 Error: 5.7866692543029785\n",
      "21\n",
      "Epoch 22, Train Loss: 0.1447882205247879, Train Accuracy: 95.0219955444336, Test Loss: 1.3467483520507812, Test Accuracy: 72.8499984741211\n",
      "Top1 Error: 37.240909576416016, Top5 Error: 5.650001525878906\n",
      "22\n",
      "Epoch 23, Train Loss: 0.12988798320293427, Train Accuracy: 95.50799560546875, Test Loss: 1.4723984003067017, Test Accuracy: 72.22000122070312\n",
      "Top1 Error: 36.829566955566406, Top5 Error: 5.530434608459473\n",
      "23\n",
      "Epoch 24, Train Loss: 0.1388016790151596, Train Accuracy: 95.21600341796875, Test Loss: 1.3065422773361206, Test Accuracy: 72.90999603271484\n",
      "Top1 Error: 36.42374801635742, Top5 Error: 5.412501335144043\n",
      "24\n",
      "Epoch 25, Train Loss: 0.11132863163948059, Train Accuracy: 96.19400024414062, Test Loss: 1.411368489265442, Test Accuracy: 72.8699951171875\n",
      "Top1 Error: 36.052001953125, Top5 Error: 5.309200286865234\n",
      "25\n",
      "Epoch 26, Train Loss: 0.11277849227190018, Train Accuracy: 96.19200134277344, Test Loss: 1.4307702779769897, Test Accuracy: 72.5999984741211\n",
      "Top1 Error: 35.7192268371582, Top5 Error: 5.2153825759887695\n",
      "26\n",
      "Epoch 27, Train Loss: 0.10974691063165665, Train Accuracy: 96.26000213623047, Test Loss: 1.3997325897216797, Test Accuracy: 72.12999725341797\n",
      "Top1 Error: 35.42851638793945, Top5 Error: 5.141109466552734\n",
      "27\n",
      "Epoch 28, Train Loss: 0.11849324405193329, Train Accuracy: 95.96400451660156, Test Loss: 1.385641098022461, Test Accuracy: 72.55999755859375\n",
      "Top1 Error: 35.14321517944336, Top5 Error: 5.057501792907715\n",
      "28\n",
      "Epoch 29, Train Loss: 0.08711183816194534, Train Accuracy: 97.04000091552734, Test Loss: 1.5086581707000732, Test Accuracy: 73.08999633789062\n",
      "Top1 Error: 34.859310150146484, Top5 Error: 4.977929592132568\n",
      "29\n",
      "Epoch 30, Train Loss: 0.08723314106464386, Train Accuracy: 96.98999786376953, Test Loss: 1.4906972646713257, Test Accuracy: 72.79999542236328\n",
      "Top1 Error: 34.604000091552734, Top5 Error: 4.91200065612793\n",
      "30\n",
      "Epoch 31, Train Loss: 0.08309197425842285, Train Accuracy: 97.16600036621094, Test Loss: 1.4992953538894653, Test Accuracy: 73.1199951171875\n",
      "Top1 Error: 34.354835510253906, Top5 Error: 4.849678039550781\n",
      "31\n",
      "Epoch 32, Train Loss: 0.09785094112157822, Train Accuracy: 96.7040023803711, Test Loss: 1.3025883436203003, Test Accuracy: 74.7699966430664\n",
      "Top1 Error: 34.06968688964844, Top5 Error: 4.776561260223389\n",
      "32\n",
      "Epoch 33, Train Loss: 0.06925046443939209, Train Accuracy: 97.66600036621094, Test Loss: 1.5662758350372314, Test Accuracy: 73.70999908447266\n",
      "Top1 Error: 33.83393859863281, Top5 Error: 4.719698429107666\n",
      "33\n",
      "Epoch 34, Train Loss: 0.07279638946056366, Train Accuracy: 97.53199768066406, Test Loss: 1.5734491348266602, Test Accuracy: 72.91999816894531\n",
      "Top1 Error: 33.63529586791992, Top5 Error: 4.669708251953125\n",
      "34\n",
      "Epoch 35, Train Loss: 0.06865286827087402, Train Accuracy: 97.6520004272461, Test Loss: 1.5805739164352417, Test Accuracy: 73.47999572753906\n",
      "Top1 Error: 33.43199920654297, Top5 Error: 4.616284370422363\n",
      "35\n",
      "Epoch 36, Train Loss: 0.06792010366916656, Train Accuracy: 97.66999816894531, Test Loss: 1.6143654584884644, Test Accuracy: 72.79000091552734\n",
      "Top1 Error: 33.2591667175293, Top5 Error: 4.570555686950684\n",
      "36\n",
      "Epoch 37, Train Loss: 0.06540907174348831, Train Accuracy: 97.79800415039062, Test Loss: 1.6012111902236938, Test Accuracy: 73.4000015258789\n",
      "Top1 Error: 33.07918930053711, Top5 Error: 4.519730567932129\n",
      "37\n",
      "Epoch 38, Train Loss: 0.0740034431219101, Train Accuracy: 97.5040054321289, Test Loss: 1.531752109527588, Test Accuracy: 73.70999908447266\n",
      "Top1 Error: 32.9005241394043, Top5 Error: 4.47157621383667\n",
      "38\n",
      "Epoch 39, Train Loss: 0.06530959159135818, Train Accuracy: 97.80999755859375, Test Loss: 1.5403310060501099, Test Accuracy: 73.45999908447266\n",
      "Top1 Error: 32.73743438720703, Top5 Error: 4.430258274078369\n",
      "39\n",
      "Epoch 40, Train Loss: 0.07502945512533188, Train Accuracy: 97.53400421142578, Test Loss: 1.412017583847046, Test Accuracy: 73.83999633789062\n",
      "Top1 Error: 32.573001861572266, Top5 Error: 4.387247562408447\n",
      "40\n",
      "Epoch 41, Train Loss: 0.056191809475421906, Train Accuracy: 98.0260009765625, Test Loss: 1.5190010070800781, Test Accuracy: 74.58000183105469\n",
      "Top1 Error: 32.39853286743164, Top5 Error: 4.346096515655518\n",
      "41\n",
      "Epoch 42, Train Loss: 0.05234236642718315, Train Accuracy: 98.19800567626953, Test Loss: 1.598820447921753, Test Accuracy: 73.18999481201172\n",
      "Top1 Error: 32.265480041503906, Top5 Error: 4.312616348266602\n",
      "42\n",
      "Epoch 43, Train Loss: 0.05850914865732193, Train Accuracy: 98.05599975585938, Test Loss: 2.0235207080841064, Test Accuracy: 68.33000183105469\n",
      "Top1 Error: 32.251625061035156, Top5 Error: 4.306978225708008\n",
      "43\n",
      "Epoch 44, Train Loss: 0.052698664367198944, Train Accuracy: 98.21399688720703, Test Loss: 1.6054456233978271, Test Accuracy: 73.12999725341797\n",
      "Top1 Error: 32.12931823730469, Top5 Error: 4.278409481048584\n",
      "44\n",
      "Epoch 45, Train Loss: 0.05337156727910042, Train Accuracy: 98.16799926757812, Test Loss: 1.624916434288025, Test Accuracy: 73.63999938964844\n",
      "Top1 Error: 32.00111389160156, Top5 Error: 4.24777889251709\n",
      "45\n",
      "Epoch 46, Train Loss: 0.04976155236363411, Train Accuracy: 98.302001953125, Test Loss: 1.6928861141204834, Test Accuracy: 74.22000122070312\n",
      "Top1 Error: 31.86587142944336, Top5 Error: 4.223698616027832\n",
      "46\n",
      "Epoch 47, Train Loss: 0.05018949508666992, Train Accuracy: 98.35399627685547, Test Loss: 1.5665578842163086, Test Accuracy: 73.7699966430664\n",
      "Top1 Error: 31.74595832824707, Top5 Error: 4.1929779052734375\n",
      "47\n",
      "Epoch 48, Train Loss: 0.048053350299596786, Train Accuracy: 98.35600280761719, Test Loss: 1.5874078273773193, Test Accuracy: 74.41999816894531\n",
      "Top1 Error: 31.61749839782715, Top5 Error: 4.163122177124023\n",
      "48\n",
      "Epoch 49, Train Loss: 0.05037953704595566, Train Accuracy: 98.34400177001953, Test Loss: 1.6310640573501587, Test Accuracy: 73.45999908447266\n",
      "Top1 Error: 31.51387596130371, Top5 Error: 4.134899139404297\n",
      "49\n",
      "Epoch 50, Train Loss: 0.04306470602750778, Train Accuracy: 98.55599975585938, Test Loss: 1.7449108362197876, Test Accuracy: 73.72000122070312\n",
      "Top1 Error: 31.409198760986328, Top5 Error: 4.110002517700195\n",
      "50\n",
      "Epoch 51, Train Loss: 0.04447118565440178, Train Accuracy: 98.51599884033203, Test Loss: 1.6727347373962402, Test Accuracy: 74.58000183105469\n",
      "Top1 Error: 31.291765213012695, Top5 Error: 4.078036308288574\n",
      "51\n",
      "Epoch 52, Train Loss: 0.047554753720760345, Train Accuracy: 98.43399810791016, Test Loss: 1.517640233039856, Test Accuracy: 74.18000030517578\n",
      "Top1 Error: 31.186538696289062, Top5 Error: 4.048079490661621\n",
      "52\n",
      "Epoch 53, Train Loss: 0.04663975164294243, Train Accuracy: 98.38600158691406, Test Loss: 1.6751453876495361, Test Accuracy: 73.19999694824219\n",
      "Top1 Error: 31.103771209716797, Top5 Error: 4.027170181274414\n",
      "53\n",
      "Epoch 54, Train Loss: 0.03940064087510109, Train Accuracy: 98.65399932861328, Test Loss: 1.7215297222137451, Test Accuracy: 74.31999969482422\n",
      "Top1 Error: 31.003332138061523, Top5 Error: 3.9972245693206787\n",
      "54\n",
      "Epoch 55, Train Loss: 0.039753466844558716, Train Accuracy: 98.66200256347656, Test Loss: 1.6542130708694458, Test Accuracy: 74.19000244140625\n",
      "Top1 Error: 30.908906936645508, Top5 Error: 3.9745450019836426\n",
      "55\n",
      "Epoch 56, Train Loss: 0.03925717622041702, Train Accuracy: 98.6259994506836, Test Loss: 1.6511270999908447, Test Accuracy: 74.04999542236328\n",
      "Top1 Error: 30.820358276367188, Top5 Error: 3.9557158946990967\n",
      "56\n",
      "Epoch 57, Train Loss: 0.05283484607934952, Train Accuracy: 98.33399963378906, Test Loss: 1.6633813381195068, Test Accuracy: 74.81999969482422\n",
      "Top1 Error: 30.72140121459961, Top5 Error: 3.932279348373413\n",
      "57\n",
      "Epoch 58, Train Loss: 0.03183354064822197, Train Accuracy: 98.91200256347656, Test Loss: 1.7689460515975952, Test Accuracy: 74.02999877929688\n",
      "Top1 Error: 30.639480590820312, Top5 Error: 3.9186179637908936\n",
      "58\n",
      "Epoch 59, Train Loss: 0.03686234727501869, Train Accuracy: 98.8479995727539, Test Loss: 1.803555965423584, Test Accuracy: 74.23999786376953\n",
      "Top1 Error: 30.556779861450195, Top5 Error: 3.9018630981445312\n",
      "59\n",
      "Epoch 60, Train Loss: 0.03818250447511673, Train Accuracy: 98.68399810791016, Test Loss: 1.5853278636932373, Test Accuracy: 74.45999908447266\n",
      "Top1 Error: 30.473167419433594, Top5 Error: 3.879666328430176\n",
      "60\n",
      "Epoch 61, Train Loss: 0.04422924667596817, Train Accuracy: 98.56800079345703, Test Loss: 1.9983407258987427, Test Accuracy: 71.41999816894531\n",
      "Top1 Error: 30.44213104248047, Top5 Error: 3.86885404586792\n",
      "61\n",
      "Epoch 62, Train Loss: 0.03393257409334183, Train Accuracy: 98.93599700927734, Test Loss: 1.6992913484573364, Test Accuracy: 74.52999877929688\n",
      "Top1 Error: 30.3619327545166, Top5 Error: 3.850001096725464\n",
      "62\n",
      "Epoch 63, Train Loss: 0.03657422959804535, Train Accuracy: 98.75199890136719, Test Loss: 1.6682711839675903, Test Accuracy: 74.58000183105469\n",
      "Top1 Error: 30.283493041992188, Top5 Error: 3.832221031188965\n",
      "63\n",
      "Epoch 64, Train Loss: 0.03213483467698097, Train Accuracy: 98.90800476074219, Test Loss: 1.7613774538040161, Test Accuracy: 74.47999572753906\n",
      "Top1 Error: 30.209064483642578, Top5 Error: 3.8134396076202393\n",
      "64\n",
      "Epoch 65, Train Loss: 0.03529171273112297, Train Accuracy: 98.843994140625, Test Loss: 1.678667664527893, Test Accuracy: 74.08000183105469\n",
      "Top1 Error: 30.143075942993164, Top5 Error: 3.8003087043762207\n",
      "65\n",
      "Epoch 66, Train Loss: 0.044904306530952454, Train Accuracy: 98.61000061035156, Test Loss: 1.7220906019210815, Test Accuracy: 74.87000274658203\n",
      "Top1 Error: 30.067121505737305, Top5 Error: 3.7822723388671875\n",
      "66\n",
      "Epoch 67, Train Loss: 0.02716907113790512, Train Accuracy: 99.08000183105469, Test Loss: 1.7802577018737793, Test Accuracy: 74.66999816894531\n",
      "Top1 Error: 29.996417999267578, Top5 Error: 3.7631332874298096\n",
      "67\n",
      "Epoch 68, Train Loss: 0.050380557775497437, Train Accuracy: 98.3759994506836, Test Loss: 1.4566069841384888, Test Accuracy: 74.69999694824219\n",
      "Top1 Error: 29.92735481262207, Top5 Error: 3.7477970123291016\n",
      "68\n",
      "Epoch 69, Train Loss: 0.03024061769247055, Train Accuracy: 99.02999877929688, Test Loss: 1.8428391218185425, Test Accuracy: 74.22000122070312\n",
      "Top1 Error: 29.867244720458984, Top5 Error: 3.7288427352905273\n",
      "69\n",
      "Epoch 70, Train Loss: 0.026751505210995674, Train Accuracy: 99.093994140625, Test Loss: 1.8179038763046265, Test Accuracy: 74.52999877929688\n",
      "Top1 Error: 29.804426193237305, Top5 Error: 3.7147164344787598\n",
      "70\n",
      "Epoch 71, Train Loss: 0.02934839203953743, Train Accuracy: 99.0459976196289, Test Loss: 1.7452521324157715, Test Accuracy: 75.0199966430664\n",
      "Top1 Error: 29.73647689819336, Top5 Error: 3.69873046875\n",
      "71\n",
      "Epoch 72, Train Loss: 0.0323086716234684, Train Accuracy: 98.90999603271484, Test Loss: 1.722658395767212, Test Accuracy: 74.69000244140625\n",
      "Top1 Error: 29.67500114440918, Top5 Error: 3.6875009536743164\n",
      "72\n",
      "Epoch 73, Train Loss: 0.02751910127699375, Train Accuracy: 99.0999984741211, Test Loss: 1.8707524538040161, Test Accuracy: 73.54999542236328\n",
      "Top1 Error: 29.630821228027344, Top5 Error: 3.674793243408203\n",
      "73\n",
      "Epoch 74, Train Loss: 0.03214435651898384, Train Accuracy: 98.98200225830078, Test Loss: 1.7149066925048828, Test Accuracy: 74.86000061035156\n",
      "Top1 Error: 29.570133209228516, Top5 Error: 3.661757707595825\n",
      "74\n",
      "Epoch 75, Train Loss: 0.02763812057673931, Train Accuracy: 99.10600280761719, Test Loss: 1.71445631980896, Test Accuracy: 75.41000366210938\n",
      "Top1 Error: 29.503732681274414, Top5 Error: 3.650534152984619\n",
      "75\n",
      "Epoch 76, Train Loss: 0.026737842708826065, Train Accuracy: 99.13999938964844, Test Loss: 1.9684629440307617, Test Accuracy: 73.15999603271484\n",
      "Top1 Error: 29.468685150146484, Top5 Error: 3.6446034908294678\n",
      "76\n",
      "Epoch 77, Train Loss: 0.028959007933735847, Train Accuracy: 99.06800079345703, Test Loss: 1.807369589805603, Test Accuracy: 74.5\n",
      "Top1 Error: 29.417144775390625, Top5 Error: 3.634154796600342\n",
      "77\n",
      "Epoch 78, Train Loss: 0.02762720175087452, Train Accuracy: 99.02999877929688, Test Loss: 1.83860182762146, Test Accuracy: 74.40999603271484\n",
      "Top1 Error: 29.368078231811523, Top5 Error: 3.6246180534362793\n",
      "78\n",
      "Epoch 79, Train Loss: 0.032697975635528564, Train Accuracy: 98.92399597167969, Test Loss: 1.669893741607666, Test Accuracy: 74.62000274658203\n",
      "Top1 Error: 29.31759262084961, Top5 Error: 3.6143064498901367\n",
      "79\n",
      "Epoch 80, Train Loss: 0.022803228348493576, Train Accuracy: 99.25199890136719, Test Loss: 1.849302887916565, Test Accuracy: 73.65999603271484\n",
      "Top1 Error: 29.280376434326172, Top5 Error: 3.6042511463165283\n",
      "80\n",
      "Epoch 81, Train Loss: 0.031566277146339417, Train Accuracy: 99.01000213623047, Test Loss: 1.766358733177185, Test Accuracy: 74.0999984741211\n",
      "Top1 Error: 29.2386417388916, Top5 Error: 3.5953104496002197\n",
      "81\n",
      "Epoch 82, Train Loss: 0.021604377776384354, Train Accuracy: 99.25399780273438, Test Loss: 1.8688502311706543, Test Accuracy: 74.88999938964844\n",
      "Top1 Error: 29.18829345703125, Top5 Error: 3.587806224822998\n",
      "82\n",
      "Epoch 83, Train Loss: 0.026512209326028824, Train Accuracy: 99.1199951171875, Test Loss: 1.8150668144226074, Test Accuracy: 74.8499984741211\n",
      "Top1 Error: 29.139636993408203, Top5 Error: 3.582286834716797\n",
      "83\n",
      "Epoch 84, Train Loss: 0.027305062860250473, Train Accuracy: 99.13999938964844, Test Loss: 1.6046160459518433, Test Accuracy: 74.6500015258789\n",
      "Top1 Error: 29.09452247619629, Top5 Error: 3.57130765914917\n",
      "84\n",
      "Epoch 85, Train Loss: 0.024202575907111168, Train Accuracy: 99.21399688720703, Test Loss: 1.6927471160888672, Test Accuracy: 74.94000244140625\n",
      "Top1 Error: 29.047060012817383, Top5 Error: 3.5598814487457275\n",
      "85\n",
      "Epoch 86, Train Loss: 0.023848580196499825, Train Accuracy: 99.20999908447266, Test Loss: 1.895510196685791, Test Accuracy: 74.5999984741211\n",
      "Top1 Error: 29.00465202331543, Top5 Error: 3.553372621536255\n",
      "86\n",
      "Epoch 87, Train Loss: 0.023982161656022072, Train Accuracy: 99.21399688720703, Test Loss: 1.7826452255249023, Test Accuracy: 74.81999969482422\n",
      "Top1 Error: 28.9606876373291, Top5 Error: 3.5455167293548584\n",
      "87\n"
     ]
    }
   ],
   "source": [
    "    train_losses = []\n",
=======
   "outputs": [],
   "source": [
    "   train_losses = []\n",
>>>>>>> 5f2cbdce25abed1b16d34391fa5fa496a2356ce0
    "    train_accs = []\n",
    "    test_losses = []\n",
    "    test_accs = []\n",
    "\n",
<<<<<<< HEAD
    "    \n",
    "    \n",
    "    \n",
=======
>>>>>>> 5f2cbdce25abed1b16d34391fa5fa496a2356ce0
    "    for i in range(epoch):\n",
    "        print(i)\n",
    "        for images, labels in train_data:\n",
    "            train_step(images, labels)\n",
    "        with train_summary_writer.as_default():\n",
    "            tf.summary.scalar('loss', train_loss.result(), step=i+1)\n",
    "            tf.summary.scalar('accuracy', train_accuracy.result(), step=i+1)\n",
    "\n",
    "            \n",
    "        for images, labels in test_data:\n",
    "            test_step(images, labels)\n",
    "        with test_summary_writer.as_default():\n",
    "            tf.summary.scalar('loss', test_loss.result(), step=i+1)\n",
    "            tf.summary.scalar('accuracy', test_accuracy.result(), step=i+1)\n",
<<<<<<< HEAD
    "            tf.summary.scalar('top1error', (1 - test_top1.result())*100, step=i+1)\n",
    "            tf.summary.scalar('top5error', (1 - test_top5.result())*100, step=i+1)\n",
    "            \n",
=======
>>>>>>> 5f2cbdce25abed1b16d34391fa5fa496a2356ce0
    "\n",
    "        template = 'Epoch {}, Train Loss: {}, Train Accuracy: {}, Test Loss: {}, Test Accuracy: {}'\n",
    "        print(template.format(i+1,\n",
    "                        train_loss.result(),\n",
    "                        train_accuracy.result()*100,\n",
    "                        test_loss.result(),\n",
    "                        test_accuracy.result()*100))\n",
    "\n",
    "        template = 'Top1 Error: {}, Top5 Error: {}'\n",
    "        print(template.format((1 - test_top1.result())*100,\\\n",
    "                            (1 - test_top5.result())*100))\n",
    "\n",
    "        save_path = manager.save()\n",
    "\n",
    "        train_losses.append(train_loss.result())\n",
    "        train_accs.append(train_accuracy.result())\n",
    "        test_losses.append(test_loss.result())\n",
    "        test_accs.append(test_accuracy.result())\n",
    "\n",
    "        # Reinicia las metricas para el siguiente epoch.\n",
    "        train_loss.reset_states()\n",
    "        train_accuracy.reset_states()\n",
    "        test_loss.reset_states()\n",
    "        test_accuracy.reset_states()\n",
    "\n",
    "\n",
    "    t = np.linspace(1, epoch, num=epoch)\n",
    "    plot1 = plt.figure(1)\n",
    "    plt.plot(t, train_losses, 'b')\n",
    "    plt.plot(t, test_losses, 'r')\n",
    "    plt.xlabel('epoch')\n",
    "    plt.ylabel('Loss')\n",
    "    plt.title('Training loss evolution')\n",
    "    plt.savefig('./Result_Pics/loss_train')\n",
    "    plot2 = plt.figure(2)\n",
    "    plt.xlabel('epoch')\n",
    "    plt.ylabel('Accuracy')\n",
    "    plt.plot(t, train_accs, 'b')\n",
    "    plt.plot(t, test_accs, 'r')\n",
    "    plt.title('Training accuracy evolution')\n",
    "    plt.savefig('.//Result_Pics//acc_train')\n",
    "    plt.show()\n",
    "    \n",
    "    a = 1"
   ]
<<<<<<< HEAD
  },
  {
   "cell_type": "code",
   "execution_count": null,
   "metadata": {},
   "outputs": [],
   "source": []
=======
>>>>>>> 5f2cbdce25abed1b16d34391fa5fa496a2356ce0
  }
 ],
 "metadata": {
  "environment": {
   "name": "tf2-gpu.2-1.m46",
   "type": "gcloud",
   "uri": "gcr.io/deeplearning-platform-release/tf2-gpu.2-1:m46"
  },
  "kernelspec": {
   "display_name": "Python 3",
   "language": "python",
   "name": "python3"
  },
  "language_info": {
   "codemirror_mode": {
    "name": "ipython",
    "version": 3
   },
   "file_extension": ".py",
   "mimetype": "text/x-python",
   "name": "python",
   "nbconvert_exporter": "python",
   "pygments_lexer": "ipython3",
   "version": "3.7.6"
  }
 },
 "nbformat": 4,
 "nbformat_minor": 4
}
