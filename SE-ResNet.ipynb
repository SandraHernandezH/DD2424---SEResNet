{
 "cells": [
  {
   "cell_type": "code",
   "execution_count": 1,
   "metadata": {},
   "outputs": [],
   "source": [
    "# Load the TensorBoard notebook extension\n",
    "#%load_ext tensorboard\n",
    "#%reload_ext tensorboard\n",
    "!kill $(ps aux | grep './ngrok' | awk '{print $2}')"
   ]
  },
  {
   "cell_type": "code",
   "execution_count": 2,
   "metadata": {},
   "outputs": [],
   "source": [
    "import os\n",
    "import tensorflow as tf\n",
    "from ResNet50 import *\n",
    "from LoadDataset import *\n",
    "from tensorboard import notebook\n",
    "#os.environ['TF_CPP_MIN_LOG_LEVEL'] = '3' \n",
    "#os.environ['CUDA_VISIBLE_DEVICES'] = '-1'\n",
    "\n",
    "#config = tf.compat.v1.ConfigProto()\n",
    "#config.gpu_options.allow_growth = True"
   ]
  },
  {
   "cell_type": "code",
   "execution_count": 3,
   "metadata": {},
   "outputs": [
    {
     "name": "stdout",
     "output_type": "stream",
     "text": [
      "2\n",
      "Default GPU Device:/device:GPU:0\n"
     ]
    }
   ],
   "source": [
    "a = tf.Variable(2)\n",
    "tf.print(a)\n",
    "if tf.test.gpu_device_name(): \n",
    "    print('Default GPU Device:{}'.format(tf.test.gpu_device_name()))\n",
    "\n",
    "else:\n",
    "   print(\"Please install GPU version of TF\")"
   ]
  },
  {
   "cell_type": "code",
   "execution_count": 4,
   "metadata": {},
   "outputs": [
    {
     "name": "stdout",
     "output_type": "stream",
     "text": [
      "loading data 2...\n",
      "Loading ./Datasets/cifar-10-batches-py/data_batch_1 : 10000.\n",
      "Loading ./Datasets/cifar-10-batches-py/data_batch_2 : 10000.\n",
      "Loading ./Datasets/cifar-10-batches-py/data_batch_3 : 10000.\n",
      "Loading ./Datasets/cifar-10-batches-py/data_batch_4 : 10000.\n",
      "Loading ./Datasets/cifar-10-batches-py/data_batch_5 : 10000.\n",
      "Loading ./Datasets/cifar-10-batches-py/test_batch : 10000.\n",
      "Train data: (50000, 32, 32, 3) (50000,)\n",
      "Test data : (10000, 32, 32, 3) (10000,)\n",
      "normalizing data...\n"
     ]
    }
   ],
   "source": [
    "import os\n",
    "os.environ['TF_CPP_MIN_LOG_LEVEL'] = '3' \n",
    "import numpy as np\n",
    "import matplotlib.pyplot as plt\n",
    "import datetime\n",
    "\n",
    "from tensorflow.keras.layers import Dense, Flatten, Conv2D, Reshape\n",
    "from tensorflow.keras import Model\n",
    "from sklearn.preprocessing import LabelEncoder\n",
    "from sklearn.preprocessing import OneHotEncoder\n",
    "import tensorflow.keras.backend as K\n",
    "from Squeeze_and_Excite import Squeeze_and_Excite \n",
    "from ResNet50 import *\n",
    "from LoadDataset import *\n",
    "\n",
    "#%load_ext tensorboard\n",
    "#!rm -rf ./logs/\n",
    "\n",
    "epoch = 2\n",
    "batch_size = 32\n",
    "learning_rate = 0.01\n",
    "dataset = 10\n",
    "\n",
    "\n",
    "def oneHotEncoder(data):\n",
    "    label_encoder = LabelEncoder()\n",
    "    values = np.array(data)\n",
    "    onehot_encoder = OneHotEncoder(sparse = False)\n",
    "    integer_encoded = label_encoder.fit_transform(values)\n",
    "    integer_encoded = integer_encoded.reshape(len(integer_encoded), 1)\n",
    "    onehot_encoded = onehot_encoder.fit_transform(integer_encoded)\n",
    "    return onehot_encoded\n",
    "\n",
    "loss_object = tf.keras.losses.SparseCategoricalCrossentropy()\n",
    "optimizer_sgd = tf.keras.optimizers.SGD(learning_rate=learning_rate)\n",
    "optimizer_adam = tf.keras.optimizers.Adam(learning_rate=0.01)\n",
    "optimizer = optimizer_adam\n",
    "\n",
    "\n",
    "train_loss = tf.keras.metrics.Mean(name='train_loss')\n",
    "train_accuracy = tf.keras.metrics.SparseCategoricalAccuracy(name='train_accuracy')\n",
    "\n",
    "test_loss = tf.keras.metrics.Mean(name='test_loss')\n",
    "test_accuracy = tf.keras.metrics.SparseCategoricalAccuracy(name='test_accuracy')\n",
    "test_top1 = tf.keras.metrics.SparseTopKCategoricalAccuracy(k=1, name='test_1_accuracy') \n",
    "test_top5 = tf.keras.metrics.SparseTopKCategoricalAccuracy(k=5, name='test_5_accuracy') \n",
    "\n",
    "@tf.function\n",
    "def train_step(images, labels):\n",
    "    with tf.GradientTape() as tape:\n",
    "    # training=True is only needed if there are layers with different\n",
    "    # behavior during training versus inference (e.g. Dropout).\n",
    "        predictions = model(images, training = True)\n",
    "        loss =loss_object(labels, predictions)\n",
    "    gradients = tape.gradient(loss, model.trainable_variables)\n",
    "    optimizer.apply_gradients(zip(gradients, model.trainable_variables))\n",
    "    train_loss(loss)\n",
    "    train_accuracy(labels, predictions)\n",
    "        \n",
    "@tf.function\n",
    "def test_step(images, labels):\n",
    "    # training=True is only needed if there are layers with different\n",
    "    # behavior during training versus inference (e.g. Dropout).\n",
    "    predictions = model(images, training = False)\n",
    "    t_loss =loss_object(labels, predictions)\n",
    "\n",
    "    test_loss(t_loss)\n",
    "    test_accuracy(labels, predictions)\n",
    "    test_top1(labels, predictions)\n",
    "    test_top5(labels, predictions)\n",
    "\n",
    "\n",
    "if __name__ == \"__main__\":\n",
    "\n",
    "    save_model_dir = \"./checkpoints_norm\"\n",
    "\n",
    "    print(\"loading data 2...\")\n",
    "    train_X, train_lab, test_X, test_lab = get_data(dataset)\n",
    "    print(\"normalizing data...\")\n",
    "    train_X, test_X = normalize(train_X, test_X)\n",
    "    train_data = tf.data.Dataset.from_tensor_slices((train_X, train_lab)).batch(batch_size)\n",
    "    test_data = tf.data.Dataset.from_tensor_slices((test_X, test_lab)).batch(batch_size)\n",
    "    \n",
    "\n",
    "    #model = ResNet50(include_top=True, weights=None, squeeze=False, squeeze_type='Normal')#, input_tensor = tf.data.Dataset.from_tensor_slices((train_X)))\n",
    "    #input_tensor = tf.placeholder(tf.float32, shape = [None, train_X.shape[0], train_X.shape[1], train_X.shape[2]])\n",
    "    model = ResNet50(include_top = True, squeeze = True, squeeze_type = 'normal', classes = dataset) #pre, identity, normal\n",
    "\n",
    "    \"\"\"\n",
    "    features, label = iter(train_dataset).next()\n",
    "    print(\"example features:\", features[0])\n",
    "    print(\"example label:\", label[0])\n",
    "    \"\"\"\n",
    "\n",
    "    checkpoint_dir = os.path.join(save_model_dir, \"ckpt\")\n",
    "    checkpoint = tf.train.Checkpoint(optimizer=optimizer, model=model)\n",
    "    manager = tf.train.CheckpointManager(checkpoint, checkpoint_dir, max_to_keep=3)\n",
    "    #checkpoint.restore(manager.latest_checkpoint)\n",
    "    #if manager.latest_checkpoint:\n",
    "    #    print(\"Restaurado de {}\".format(manager.latest_checkpoint))\n",
    "    #else:\n",
    "    #    print(\"Inicializando desde cero\")\n",
    "\n",
    "    current_time = datetime.datetime.now().strftime(\"%Y%m%d-%H%M%S\")\n",
    "    train_log_dir = 'logs/gradient_tape/' + current_time + '/train'\n",
    "    test_log_dir = 'logs/gradient_tape/' + current_time + '/test'\n",
    "    train_summary_writer = tf.summary.create_file_writer(train_log_dir)\n",
    "    test_summary_writer = tf.summary.create_file_writer(test_log_dir)"
   ]
  },
  {
   "cell_type": "code",
   "execution_count": 6,
   "metadata": {},
   "outputs": [
    {
     "name": "stdout",
     "output_type": "stream",
     "text": [
      "--2020-05-12 22:41:21--  https://bin.equinox.io/c/4VmDzA7iaHb/ngrok-stable-linux-amd64.zip\n",
      "Resolving bin.equinox.io (bin.equinox.io)... 52.22.244.167, 18.208.90.15, 54.159.115.94, ...\n",
      "Connecting to bin.equinox.io (bin.equinox.io)|52.22.244.167|:443... connected.\n",
      "HTTP request sent, awaiting response... 200 OK\n",
      "Length: 13773305 (13M) [application/octet-stream]\n",
      "Saving to: ‘ngrok-stable-linux-amd64.zip’\n",
      "\n",
      "ngrok-stable-linux- 100%[===================>]  13.13M  15.4MB/s    in 0.9s    \n",
      "\n",
      "2020-05-12 22:41:22 (15.4 MB/s) - ‘ngrok-stable-linux-amd64.zip’ saved [13773305/13773305]\n",
      "\n",
      "Archive:  ngrok-stable-linux-amd64.zip\n",
      "  inflating: ngrok                   \n"
     ]
    }
   ],
   "source": [
    "!wget https://bin.equinox.io/c/4VmDzA7iaHb/ngrok-stable-linux-amd64.zip\n",
    "!unzip -o ngrok-stable-linux-amd64.zip"
   ]
  },
  {
   "cell_type": "code",
   "execution_count": 8,
   "metadata": {},
   "outputs": [
    {
     "name": "stdout",
     "output_type": "stream",
     "text": [
      "http://cdd119d5.ngrok.io\n"
     ]
    }
   ],
   "source": [
    "logdir = \"logs\"\n",
    "LOG_DIR = logdir\n",
    "get_ipython().system_raw(\n",
    "    'tensorboard --logdir {} --host 0.0.0.0 --port 6006 &'\n",
    "    .format(LOG_DIR)\n",
    ")\n",
    "get_ipython().system_raw('./ngrok http 6006 &')\n",
    "! curl -s http://localhost:4040/api/tunnels | python3 -c \\\n",
    "    \"import sys, json; print(json.load(sys.stdin)['tunnels'][0]['public_url'])\""
   ]
  },
  {
   "cell_type": "code",
   "execution_count": 5,
   "metadata": {},
   "outputs": [
    {
     "name": "stdout",
     "output_type": "stream",
     "text": [
      "0\n",
      "Epoch 1, Train Loss: 2.2882466316223145, Train Accuracy: 29.50200080871582, Test Loss: 23.349424362182617, Test Accuracy: 10.329999923706055\n",
      "Top1 Error: 89.67000579833984, Top5 Error: 42.69999694824219\n",
      "1\n",
      "Epoch 2, Train Loss: 1.6239362955093384, Train Accuracy: 40.507999420166016, Test Loss: 1.8149330615997314, Test Accuracy: 34.0099983215332\n",
      "Top1 Error: 77.83000183105469, Top5 Error: 28.355003356933594\n"
     ]
    },
    {
     "data": {
      "image/png": "[encoded data removed]",
      "text/plain": [
       "<Figure size 432x288 with 1 Axes>"
      ]
     },
     "metadata": {
      "needs_background": "light"
     },
     "output_type": "display_data"
    },
    {
     "data": {
      "image/png": "[encoded data removed]",
      "text/plain": [
       "<Figure size 432x288 with 1 Axes>"
      ]
     },
     "metadata": {
      "needs_background": "light"
     },
     "output_type": "display_data"
    }
   ],
   "source": [
    "    train_losses = []\n",
    "    train_accs = []\n",
    "    test_losses = []\n",
    "    test_accs = []\n",
    "\n",
    "    \n",
    "    \n",
    "    \n",
    "    for i in range(epoch):\n",
    "        print(i)\n",
    "        if i == 1:\n",
    "            optimizer = optimizer_sgd\n",
    "        for images, labels in train_data:\n",
    "            train_step(images, labels)\n",
    "        with train_summary_writer.as_default():\n",
    "            tf.summary.scalar('loss', train_loss.result(), step=i+1)\n",
    "            tf.summary.scalar('accuracy', train_accuracy.result(), step=i+1)\n",
    "\n",
    "            \n",
    "        for images, labels in test_data:\n",
    "            test_step(images, labels)\n",
    "        with test_summary_writer.as_default():\n",
    "            tf.summary.scalar('loss', test_loss.result(), step=i+1)\n",
    "            tf.summary.scalar('accuracy', test_accuracy.result(), step=i+1)\n",
    "            tf.summary.scalar('top1error', (1 - test_top1.result())*100, step=i+1)\n",
    "            tf.summary.scalar('top5error', (1 - test_top5.result())*100, step=i+1)\n",
    "            \n",
    "\n",
    "        template = 'Epoch {}, Train Loss: {}, Train Accuracy: {}, Test Loss: {}, Test Accuracy: {}'\n",
    "        print(template.format(i+1,\n",
    "                        train_loss.result(),\n",
    "                        train_accuracy.result()*100,\n",
    "                        test_loss.result(),\n",
    "                        test_accuracy.result()*100))\n",
    "\n",
    "        template = 'Top1 Error: {}, Top5 Error: {}'\n",
    "        print(template.format((1 - test_top1.result())*100,\\\n",
    "                            (1 - test_top5.result())*100))\n",
    "\n",
    "        save_path = manager.save()\n",
    "\n",
    "        train_losses.append(train_loss.result())\n",
    "        train_accs.append(train_accuracy.result())\n",
    "        test_losses.append(test_loss.result())\n",
    "        test_accs.append(test_accuracy.result())\n",
    "\n",
    "        # Reinicia las metricas para el siguiente epoch.\n",
    "        train_loss.reset_states()\n",
    "        train_accuracy.reset_states()\n",
    "        test_loss.reset_states()\n",
    "        test_accuracy.reset_states()\n",
    "\n",
    "\n",
    "    t = np.linspace(1, epoch, num=epoch)\n",
    "    plot1 = plt.figure(1)\n",
    "    plt.plot(t, train_losses, 'b')\n",
    "    plt.plot(t, test_losses, 'r')\n",
    "    plt.xlabel('epoch')\n",
    "    plt.ylabel('Loss')\n",
    "    plt.title('Training loss evolution')\n",
    "    plt.savefig('./Result_Pics/loss_train')\n",
    "    plot2 = plt.figure(2)\n",
    "    plt.xlabel('epoch')\n",
    "    plt.ylabel('Accuracy')\n",
    "    plt.plot(t, train_accs, 'b')\n",
    "    plt.plot(t, test_accs, 'r')\n",
    "    plt.title('Training accuracy evolution')\n",
    "    plt.savefig('.//Result_Pics//acc_train')\n",
    "    plt.show()\n",
    "    \n",
    "    a = 1"
   ]
  },
  {
   "cell_type": "code",
   "execution_count": null,
   "metadata": {},
   "outputs": [],
   "source": []
  }
 ],
 "metadata": {
  "environment": {
   "name": "tf2-gpu.2-1.m46",
   "type": "gcloud",
   "uri": "gcr.io/deeplearning-platform-release/tf2-gpu.2-1:m46"
  },
  "kernelspec": {
   "display_name": "Python 3",
   "language": "python",
   "name": "python3"
  },
  "language_info": {
   "codemirror_mode": {
    "name": "ipython",
    "version": 3
   },
   "file_extension": ".py",
   "mimetype": "text/x-python",
   "name": "python",
   "nbconvert_exporter": "python",
   "pygments_lexer": "ipython3",
   "version": "3.7.6"
  }
 },
 "nbformat": 4,
 "nbformat_minor": 4
}
